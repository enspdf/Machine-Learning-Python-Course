{
 "cells": [
  {
   "cell_type": "markdown",
   "metadata": {},
   "source": [
    "# El método de k-means"
   ]
  },
  {
   "cell_type": "code",
   "execution_count": 1,
   "metadata": {},
   "outputs": [],
   "source": [
    "import numpy as np"
   ]
  },
  {
   "cell_type": "code",
   "execution_count": 2,
   "metadata": {},
   "outputs": [
    {
     "data": {
      "text/plain": [
       "array([[ 0.02899263,  0.75336089,  0.1509988 ],\n",
       "       [ 0.79712127,  0.66433522,  0.68050549],\n",
       "       [ 0.56194242,  0.40797792,  0.37436031],\n",
       "       [ 0.73828644,  0.89713617,  0.93264519],\n",
       "       [ 0.97331243,  0.02839476,  0.60140886],\n",
       "       [ 0.48317137,  0.37974681,  0.63604114],\n",
       "       [ 0.82764102,  0.18539913,  0.71932766],\n",
       "       [ 0.46232227,  0.38826632,  0.21314019],\n",
       "       [ 0.43668384,  0.46859645,  0.93282108],\n",
       "       [ 0.04431688,  0.85351707,  0.82656771],\n",
       "       [ 0.40905001,  0.90327039,  0.49393473],\n",
       "       [ 0.33226245,  0.34093586,  0.34871597],\n",
       "       [ 0.32892669,  0.91748831,  0.8609645 ],\n",
       "       [ 0.14513769,  0.84012351,  0.38768515],\n",
       "       [ 0.35046045,  0.20906658,  0.0963832 ],\n",
       "       [ 0.69969997,  0.02005446,  0.40817792],\n",
       "       [ 0.24919468,  0.09330022,  0.40377291],\n",
       "       [ 0.33715409,  0.74335255,  0.22623293],\n",
       "       [ 0.18499264,  0.62244128,  0.22965781],\n",
       "       [ 0.35467271,  0.06172094,  0.48108036],\n",
       "       [ 0.84598976,  0.47868384,  0.21657331],\n",
       "       [ 0.88204687,  0.56786192,  0.03132969],\n",
       "       [ 0.64557024,  0.76265534,  0.88793912],\n",
       "       [ 0.10693607,  0.51567292,  0.1950328 ],\n",
       "       [ 0.43163889,  0.32855421,  0.32218894],\n",
       "       [ 0.92568821,  0.68972031,  0.44253127],\n",
       "       [ 0.99856462,  0.23263188,  0.33603459],\n",
       "       [ 0.85114051,  0.42621387,  0.34371954],\n",
       "       [ 0.93228317,  0.78653762,  0.49199239],\n",
       "       [ 0.02785751,  0.48863234,  0.10181486]])"
      ]
     },
     "execution_count": 2,
     "metadata": {},
     "output_type": "execute_result"
    }
   ],
   "source": [
    "data = np.random.random(90).reshape(30, 3)\n",
    "\n",
    "data"
   ]
  },
  {
   "cell_type": "code",
   "execution_count": 3,
   "metadata": {},
   "outputs": [
    {
     "data": {
      "text/plain": [
       "array([[ 0.73828644,  0.89713617,  0.93264519],\n",
       "       [ 0.79712127,  0.66433522,  0.68050549]])"
      ]
     },
     "execution_count": 3,
     "metadata": {},
     "output_type": "execute_result"
    }
   ],
   "source": [
    "c1 = np.random.choice(range(len(data)))\n",
    "\n",
    "c2 = np.random.choice(range(len(data)))\n",
    "\n",
    "clust_centers = np.vstack([data[c1], data[c2]])\n",
    "\n",
    "clust_centers"
   ]
  },
  {
   "cell_type": "code",
   "execution_count": 4,
   "metadata": {},
   "outputs": [],
   "source": [
    "from scipy.cluster.vq import vq"
   ]
  },
  {
   "cell_type": "code",
   "execution_count": 5,
   "metadata": {},
   "outputs": [
    {
     "data": {
      "text/plain": [
       "(array([1, 1, 1, 0, 1, 1, 1, 1, 1, 0, 1, 1, 0, 1, 1, 1, 1, 1, 1, 1, 1, 1, 0,\n",
       "        1, 1, 1, 1, 1, 1, 1], dtype=int32),\n",
       " array([ 0.93718969,  0.        ,  0.46341453,  0.        ,  0.66462009,\n",
       "         0.42606594,  0.48147522,  0.63775758,  0.48155162,  0.70338383,\n",
       "         0.49244083,  0.65632702,  0.41608621,  0.73602165,  0.86485506,\n",
       "         0.70622299,  0.83838263,  0.6512888 ,  0.76139359,  0.77374096,\n",
       "         0.50208329,  0.66177691,  0.16935176,  0.8568196 ,  0.61214133,\n",
       "         0.27167184,  0.58788383,  0.41598634,  0.26218192,  0.97853007]))"
      ]
     },
     "execution_count": 5,
     "metadata": {},
     "output_type": "execute_result"
    }
   ],
   "source": [
    "vq(data, clust_centers)"
   ]
  },
  {
   "cell_type": "code",
   "execution_count": 6,
   "metadata": {},
   "outputs": [],
   "source": [
    "from scipy.cluster.vq import kmeans"
   ]
  },
  {
   "cell_type": "code",
   "execution_count": 7,
   "metadata": {},
   "outputs": [
    {
     "data": {
      "text/plain": [
       "(array([[ 0.54030644,  0.77833804,  0.69375866],\n",
       "        [ 0.49949967,  0.36361344,  0.32179959]]), 0.38000915145317077)"
      ]
     },
     "execution_count": 7,
     "metadata": {},
     "output_type": "execute_result"
    }
   ],
   "source": [
    "kmeans(data, clust_centers)"
   ]
  },
  {
   "cell_type": "code",
   "execution_count": 8,
   "metadata": {},
   "outputs": [
    {
     "data": {
      "text/plain": [
       "(array([[ 0.24749921,  0.51015822,  0.31980046],\n",
       "        [ 0.7455043 ,  0.49458962,  0.55602325]]), 0.37644554262039698)"
      ]
     },
     "execution_count": 8,
     "metadata": {},
     "output_type": "execute_result"
    }
   ],
   "source": [
    "kmeans(data, 2)"
   ]
  },
  {
   "cell_type": "code",
   "execution_count": null,
   "metadata": {},
   "outputs": [],
   "source": []
  }
 ],
 "metadata": {
  "kernelspec": {
   "display_name": "Python 3",
   "language": "python",
   "name": "python3"
  },
  "language_info": {
   "codemirror_mode": {
    "name": "ipython",
    "version": 3
   },
   "file_extension": ".py",
   "mimetype": "text/x-python",
   "name": "python",
   "nbconvert_exporter": "python",
   "pygments_lexer": "ipython3",
   "version": "3.6.4"
  }
 },
 "nbformat": 4,
 "nbformat_minor": 2
}
